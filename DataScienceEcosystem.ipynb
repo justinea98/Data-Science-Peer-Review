{
 "cells": [
  {
   "cell_type": "markdown",
   "id": "25418d80-bdfd-46d4-842e-d7d9f994afc7",
   "metadata": {},
   "source": [
    "# Data Science Tools and Eco Systems\n"
   ]
  },
  {
   "cell_type": "markdown",
   "id": "8202d22e-2483-42d6-bc3d-29c236d72f41",
   "metadata": {},
   "source": [
    "### In this notebook, Data Science Tools and Ecosystem are summarized"
   ]
  },
  {
   "cell_type": "markdown",
   "id": "f04f31ba-a5e6-4e23-b46a-a4f9f0eb761f",
   "metadata": {},
   "source": [
    "**Objectives:**                     \n",
    "*  Popular Data Science Languages\n",
    "*  Simple Arithmetic Expressions\n",
    "*  Using markup in Jupyter"
   ]
  },
  {
   "cell_type": "markdown",
   "id": "323ac78f-96fc-43bb-a0ac-85320c45be74",
   "metadata": {},
   "source": [
    "## Author\n",
    "Justin Estrada"
   ]
  },
  {
   "cell_type": "markdown",
   "id": "c77c9d73-40a4-47ef-a30a-665b7e0db386",
   "metadata": {},
   "source": [
    "|Data Science Languages|\n",
    "|----------------------|\n",
    "|1. R                   |\n",
    "|2. Python              |\n",
    "|3. C++                 |\n",
    "|4. Scala|"
   ]
  },
  {
   "cell_type": "markdown",
   "id": "e9bb05df-d0d1-47ea-b92a-a70b3b64f51f",
   "metadata": {},
   "source": [
    "|DSome of the commonly used libraries used by Data Scientists include:|\n",
    "|---------------------------------------------------------------------|\n",
    "|1.  Tensor Flow|\n",
    "|2.  NumPy|\n",
    "|3.  Pandas|\n",
    "|4  PyTorch|\n"
   ]
  },
  {
   "cell_type": "markdown",
   "id": "4df0289e-e34d-4096-95c1-e58eec8b2fc7",
   "metadata": {},
   "source": [
    "|Data Science Tools|\n",
    "|------------------|\n",
    "|Jupyter|\n",
    "|MatLab|\n",
    "|SAS|"
   ]
  },
  {
   "cell_type": "markdown",
   "id": "9eef95f9-e555-446c-8346-37bb0d91210b",
   "metadata": {},
   "source": [
    "### Below are a few examples of evaluating arithmetic expressions in Python\n"
   ]
  },
  {
   "cell_type": "code",
   "execution_count": 4,
   "id": "db912455-872d-4fb1-b7b1-0435f7a0c6b3",
   "metadata": {},
   "outputs": [
    {
     "data": {
      "text/plain": [
       "17"
      ]
     },
     "execution_count": 4,
     "metadata": {},
     "output_type": "execute_result"
    }
   ],
   "source": [
    "# this is a simple arithmetic expression\n",
    "(3*4)+5\n"
   ]
  },
  {
   "cell_type": "code",
   "execution_count": 3,
   "id": "a15714b1-b269-4709-8e43-b71ecd865880",
   "metadata": {},
   "outputs": [
    {
     "data": {
      "text/plain": [
       "3.3333333333333335"
      ]
     },
     "execution_count": 3,
     "metadata": {},
     "output_type": "execute_result"
    }
   ],
   "source": [
    "# This will convert minutes into hours\n",
    "\n",
    "200/60\n"
   ]
  }
 ],
 "metadata": {
  "kernelspec": {
   "display_name": "Python",
   "language": "python",
   "name": "conda-env-python-py"
  },
  "language_info": {
   "codemirror_mode": {
    "name": "ipython",
    "version": 3
   },
   "file_extension": ".py",
   "mimetype": "text/x-python",
   "name": "python",
   "nbconvert_exporter": "python",
   "pygments_lexer": "ipython3",
   "version": "3.7.12"
  }
 },
 "nbformat": 4,
 "nbformat_minor": 5
}
